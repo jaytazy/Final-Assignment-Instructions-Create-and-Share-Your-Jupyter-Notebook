{
 "cells": [
  {
   "cell_type": "markdown",
   "id": "e3f64716-cb23-4507-95ef-5797d29588dc",
   "metadata": {},
   "source": [
    "# Data Science Ecosystem"
   ]
  },
  {
   "cell_type": "markdown",
   "id": "de385910-77b7-4bd5-89f8-6e308b011d9a",
   "metadata": {},
   "source": [
    "In this notebook, Data Science Tools and Ecosystem are summarized."
   ]
  },
  {
   "cell_type": "markdown",
   "id": "07fc0e65-b28d-44d3-b0d9-f1263bf15e34",
   "metadata": {
    "tags": []
   },
   "source": [
    "**Objectives:**\n",
    "- List popular languages for Data Science\n",
    "- Teach how to use such languages\n",
    "- Teach popular libraries for data science \n",
    "- Teach how to use such libraries"
   ]
  },
  {
   "cell_type": "markdown",
   "id": "1d7b260b-6460-4c87-ab5d-1e32907b0da6",
   "metadata": {},
   "source": [
    "Some of the popular languages that Data Scientists use are:\n",
    "1. Python\n",
    "2. R\n",
    "3. Julia \n",
    "4. Java"
   ]
  },
  {
   "cell_type": "markdown",
   "id": "877071cf-a77d-47de-b905-c5864792cd3a",
   "metadata": {},
   "source": [
    "Some of the comonly used libraries for Data Scientists are:\n",
    "1. Pandas\n",
    "2. NumPy\n",
    "3. SciPy \n",
    "4. Matplotlib"
   ]
  },
  {
   "cell_type": "markdown",
   "id": "2777c65e-59a9-4fd4-af88-8bd279f2088a",
   "metadata": {},
   "source": [
    "|Data Science Tolls|\n",
    "|---|\n",
    "|Hadoop|\n",
    "|Spark|\n",
    "|Jupyter Notebook|\n",
    "|R Studios|"
   ]
  },
  {
   "cell_type": "markdown",
   "id": "5e61665d-8bbc-4e6a-82b5-1e4530031955",
   "metadata": {},
   "source": [
    "### Below are a few examples of evaluating arithmetic expressions in Python"
   ]
  },
  {
   "cell_type": "code",
   "execution_count": 1,
   "id": "246d561e-2949-4f1d-8255-452559c4bb6c",
   "metadata": {
    "tags": []
   },
   "outputs": [
    {
     "data": {
      "text/plain": [
       "17"
      ]
     },
     "execution_count": 1,
     "metadata": {},
     "output_type": "execute_result"
    }
   ],
   "source": [
    "#This a simple arithmetic expression to mutiply then add integers\n",
    "(3*4)+5"
   ]
  },
  {
   "cell_type": "code",
   "execution_count": 2,
   "id": "28e5dcd5-1fe1-419b-add0-695a761a8809",
   "metadata": {
    "tags": []
   },
   "outputs": [
    {
     "data": {
      "text/plain": [
       "3.3333333333333335"
      ]
     },
     "execution_count": 2,
     "metadata": {},
     "output_type": "execute_result"
    }
   ],
   "source": [
    "#This will convert 200 minutes to hours by diving by 60\n",
    "200/60\n"
   ]
  },
  {
   "cell_type": "markdown",
   "id": "04644f6b-2331-41c8-9a5b-9fc7a179b669",
   "metadata": {
    "tags": []
   },
   "source": [
    "## Author\n",
    "Iasonas Dimitris Tazartes"
   ]
  },
  {
   "cell_type": "code",
   "execution_count": null,
   "id": "d4ac62a0-dffe-45d3-802a-01399cfff448",
   "metadata": {},
   "outputs": [],
   "source": []
  }
 ],
 "metadata": {
  "kernelspec": {
   "display_name": "Python 3 (ipykernel)",
   "language": "python",
   "name": "python3"
  },
  "language_info": {
   "codemirror_mode": {
    "name": "ipython",
    "version": 3
   },
   "file_extension": ".py",
   "mimetype": "text/x-python",
   "name": "python",
   "nbconvert_exporter": "python",
   "pygments_lexer": "ipython3",
   "version": "3.11.5"
  }
 },
 "nbformat": 4,
 "nbformat_minor": 5
}
